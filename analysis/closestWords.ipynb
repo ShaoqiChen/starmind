{
 "metadata": {
  "language_info": {
   "codemirror_mode": {
    "name": "ipython",
    "version": 3
   },
   "file_extension": ".py",
   "mimetype": "text/x-python",
   "name": "python",
   "nbconvert_exporter": "python",
   "pygments_lexer": "ipython3",
   "version": "3.8.10"
  },
  "orig_nbformat": 4,
  "kernelspec": {
   "name": "python3",
   "display_name": "Python 3.8.10 64-bit ('starmind': conda)"
  },
  "interpreter": {
   "hash": "354816c524a34253c385200184884170eeca167f5f68528c0d19a3fc5f5302cc"
  }
 },
 "nbformat": 4,
 "nbformat_minor": 2,
 "cells": [
  {
   "cell_type": "code",
   "execution_count": 1,
   "metadata": {},
   "outputs": [],
   "source": [
    "import pandas as pd\n",
    "import numpy as np"
   ]
  },
  {
   "source": [
    "## Load dataset"
   ],
   "cell_type": "markdown",
   "metadata": {}
  },
  {
   "cell_type": "code",
   "execution_count": 4,
   "metadata": {},
   "outputs": [
    {
     "output_type": "execute_result",
     "data": {
      "text/plain": [
       "                         HUNDENAME  GEBURTSJAHR_HUND GESCHLECHT_HUND\n",
       "0                            Ituma              2011               w\n",
       "1         \"Bo\" Bendy of Treegarden              2020               m\n",
       "2            \"Bobby\" Lord Sinclair              2009               m\n",
       "3       \"Buddy\" Fortheringhay's J.              2011               m\n",
       "4     \"Fly\" Showring i fly for you              2015               w\n",
       "...                            ...               ...             ...\n",
       "8569                     unbekannt              2010               w\n",
       "8570                     unbekannt              2011               m\n",
       "8571                     unbekannt              2018               m\n",
       "8572                     unbekannt              2018               m\n",
       "8573                     unbekannt              2017               m\n",
       "\n",
       "[8574 rows x 3 columns]"
      ],
      "text/html": "<div>\n<style scoped>\n    .dataframe tbody tr th:only-of-type {\n        vertical-align: middle;\n    }\n\n    .dataframe tbody tr th {\n        vertical-align: top;\n    }\n\n    .dataframe thead th {\n        text-align: right;\n    }\n</style>\n<table border=\"1\" class=\"dataframe\">\n  <thead>\n    <tr style=\"text-align: right;\">\n      <th></th>\n      <th>HUNDENAME</th>\n      <th>GEBURTSJAHR_HUND</th>\n      <th>GESCHLECHT_HUND</th>\n    </tr>\n  </thead>\n  <tbody>\n    <tr>\n      <th>0</th>\n      <td>Ituma</td>\n      <td>2011</td>\n      <td>w</td>\n    </tr>\n    <tr>\n      <th>1</th>\n      <td>\"Bo\" Bendy of Treegarden</td>\n      <td>2020</td>\n      <td>m</td>\n    </tr>\n    <tr>\n      <th>2</th>\n      <td>\"Bobby\" Lord Sinclair</td>\n      <td>2009</td>\n      <td>m</td>\n    </tr>\n    <tr>\n      <th>3</th>\n      <td>\"Buddy\" Fortheringhay's J.</td>\n      <td>2011</td>\n      <td>m</td>\n    </tr>\n    <tr>\n      <th>4</th>\n      <td>\"Fly\" Showring i fly for you</td>\n      <td>2015</td>\n      <td>w</td>\n    </tr>\n    <tr>\n      <th>...</th>\n      <td>...</td>\n      <td>...</td>\n      <td>...</td>\n    </tr>\n    <tr>\n      <th>8569</th>\n      <td>unbekannt</td>\n      <td>2010</td>\n      <td>w</td>\n    </tr>\n    <tr>\n      <th>8570</th>\n      <td>unbekannt</td>\n      <td>2011</td>\n      <td>m</td>\n    </tr>\n    <tr>\n      <th>8571</th>\n      <td>unbekannt</td>\n      <td>2018</td>\n      <td>m</td>\n    </tr>\n    <tr>\n      <th>8572</th>\n      <td>unbekannt</td>\n      <td>2018</td>\n      <td>m</td>\n    </tr>\n    <tr>\n      <th>8573</th>\n      <td>unbekannt</td>\n      <td>2017</td>\n      <td>m</td>\n    </tr>\n  </tbody>\n</table>\n<p>8574 rows × 3 columns</p>\n</div>"
     },
     "metadata": {},
     "execution_count": 4
    }
   ],
   "source": [
    "words_df = pd.read_csv('../data/20210103_hundenamen.csv')\n",
    "words_df"
   ]
  },
  {
   "source": [
    "## Extract all unqiue names"
   ],
   "cell_type": "markdown",
   "metadata": {}
  },
  {
   "cell_type": "code",
   "execution_count": 8,
   "metadata": {},
   "outputs": [
    {
     "output_type": "execute_result",
     "data": {
      "text/plain": [
       "Luna                    92\n",
       "Bella                   37\n",
       "Rocky                   35\n",
       "Coco                    33\n",
       "Mia                     33\n",
       "                        ..\n",
       "Phoebe vom Wandergut     1\n",
       "Broccoli                 1\n",
       "Charo                    1\n",
       "Stella-Lou               1\n",
       "Amaya                    1\n",
       "Name: HUNDENAME, Length: 5192, dtype: int64"
      ]
     },
     "metadata": {},
     "execution_count": 8
    }
   ],
   "source": [
    "words_df['HUNDENAME'].value_counts() # there are 5192 unqiue names"
   ]
  },
  {
   "cell_type": "code",
   "execution_count": 13,
   "metadata": {},
   "outputs": [
    {
     "output_type": "execute_result",
     "data": {
      "text/plain": [
       "array(['Ituma', '\"Bo\" Bendy of Treegarden', '\"Bobby\" Lord Sinclair', ...,\n",
       "       'lamba-Julia', 'Éo', 'unbekannt'], dtype=object)"
      ]
     },
     "metadata": {},
     "execution_count": 13
    }
   ],
   "source": [
    "names = words_df['HUNDENAME'].unique()\n",
    "names"
   ]
  },
  {
   "source": [
    "## Define function to calculate Levenshtein distance"
   ],
   "cell_type": "markdown",
   "metadata": {}
  },
  {
   "cell_type": "code",
   "execution_count": 21,
   "metadata": {},
   "outputs": [],
   "source": [
    "def distance(word1, word2):\n",
    "    distances = np.zeros((len(word1) + 1, len(word2) + 1))\n",
    "\n",
    "    for t1 in range(len(word1) + 1):\n",
    "        distances[t1][0] = t1\n",
    "\n",
    "    for t2 in range(len(word2) + 1):\n",
    "        distances[0][t2] = t2\n",
    "\n",
    "    for t1 in range(1, len(word1) + 1):\n",
    "        for t2 in range(1, len(word2) + 1):\n",
    "            if (word1[t1-1] == word2[t2-1]):\n",
    "                distances[t1][t2] = distances[t1 - 1][t2 - 1]\n",
    "            else:\n",
    "                distances[t1][t2] = 1 + min(\n",
    "                    distances[t1][t2 - 1],\n",
    "                    distances[t1 - 1][t2],\n",
    "                    distances[t1 - 1][t2 - 1])\n",
    "\n",
    "    return distances[len(word1)][len(word2)]"
   ]
  },
  {
   "source": [
    "## Find all names close to 'Luca' in a levenshtein distance of 1"
   ],
   "cell_type": "markdown",
   "metadata": {}
  },
  {
   "cell_type": "code",
   "execution_count": 24,
   "metadata": {},
   "outputs": [
    {
     "output_type": "stream",
     "name": "stdout",
     "text": [
      "Cuca\n",
      "Lua\n",
      "Luba\n",
      "Lucas\n",
      "Luce\n",
      "Lucia\n",
      "Lucy\n",
      "Lula\n",
      "Luma\n",
      "Luna\n",
      "Lupa\n",
      "Yuca\n"
     ]
    }
   ],
   "source": [
    "for name in names:\n",
    "    if distance(name, 'Luca') == 1:\n",
    "        print(name)"
   ]
  },
  {
   "cell_type": "code",
   "execution_count": null,
   "metadata": {},
   "outputs": [],
   "source": []
  }
 ]
}